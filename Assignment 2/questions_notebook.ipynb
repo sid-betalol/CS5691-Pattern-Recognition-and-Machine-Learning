{
 "cells": [
  {
   "cell_type": "markdown",
   "metadata": {},
   "source": [
    "# General Instructions to students:\n",
    "\n",
    "1. There are 5 types of cells in this notebook. The cell type will be indicated within the cell.\n",
    "    1. Markdown cells with problem written in it. (DO NOT TOUCH THESE CELLS) (**Cell type: TextRead**)\n",
    "    2. Python cells with setup code for further evaluations. (DO NOT TOUCH THESE CELLS) (**Cell type: CodeRead**)\n",
    "    3. Python code cells with some template code or empty cell. (FILL CODE IN THESE CELLS BASED ON INSTRUCTIONS IN CURRENT AND PREVIOUS CELLS) (**Cell type: CodeWrite**)\n",
    "    4. Markdown cells where a written reasoning or conclusion is expected. (WRITE SENTENCES IN THESE CELLS) (**Cell type: TextWrite**)\n",
    "    5. Temporary code cells for convenience and TAs. (YOU MAY DO WHAT YOU WILL WITH THESE CELLS, TAs WILL REPLACE WHATEVER YOU WRITE HERE WITH OFFICIAL EVALUATION CODE) (**Cell type: Convenience**)\n",
    "    \n",
    "2. You are not allowed to insert new cells in the submitted notebook.\n",
    "\n",
    "3. You are not allowed to import any extra packages.\n",
    "\n",
    "4. The code is to be written in Python 3.6 syntax. Latest versions of other packages maybe assumed.\n",
    "\n",
    "5. In CodeWrite Cells, the only outputs to be given are plots asked in the question. Nothing else to be output/print. \n",
    "\n",
    "6. If TextWrite cells ask you to give accuracy/error/other numbers you can print them on the code cells, but remove the print statements before submitting.\n",
    "\n",
    "7. The convenience code can be used to check the expected syntax of the functions. At a minimum, your entire notebook must run with \"run all\" with the convenience cells as it is. Any runtime failures on the submitted notebook as it is will get zero marks.\n",
    "\n",
    "8. All code must be written by yourself. Copying from other students/material on the web is strictly prohibited. Any violations will result in zero marks.\n",
    "\n",
    "9. All datasets will be given as .npz files, and will contain data in 4 numpy arrays :\"X_train, Y_train, X_test, Y_test\". In that order. The meaning of the 4 arrays can be easily inferred from their names.\n",
    "\n",
    "10. All plots must be labelled properly, all tables must have rows and columns named properly.\n",
    "\n",
    "11. Before subbmission ensure that you submit with the outputs (do not clear the outputs), so that when evaluating we can run selectively.\n",
    "\n",
    "12. Before submission ensure that the path for the folder containing the data is \"../../Data/\" \n"
   ]
  },
  {
   "cell_type": "code",
   "execution_count": 2,
   "metadata": {
    "collapsed": true
   },
   "outputs": [],
   "source": [
    "import numpy as np\n",
    "import matplotlib.pyplot as plt\n",
    "from sklearn import svm\n",
    "import matplotlib as mpl\n",
    "import pandas as pd"
   ]
  },
  {
   "cell_type": "markdown",
   "metadata": {},
   "source": [
    "# 1. Logistic Regression \n",
    "\n",
    "Write code for doing logistic regression below. Also write code for choosing best hyperparameters for each kernel type (use a part of training set as validation set). \n",
    "\n",
    "The range of hyperparameters is typically chosen on a log scale e.g. 1e-4, 1e-3, 1e-2... 1e3.\n",
    "\n",
    "Write code for running in the cell after (You may be asked to demonstrate your code during the viva using this cell.)\n",
    "\n",
    "In text cell after that report the following numbers you get by running appropriate code:\n",
    "\n",
    "For each classification data set report the best kernel and regularisation parameters for linear, RBF and Poly kernels. (Linear has no kernel parameter.) Report the training and test zero-one error for those hyperparameters. \n",
    "\n",
    "For each given hyperparameter setting (kernel and regularisation) you will have to do some exploring to find the right learning rate to use in gradient descent. The optimisation learning rate is not a model hyperparameter and hence can be chosen based on just the training set. i.e. choose the learning rate for which the training loss decreases the most.\n",
    "\n",
    "For the synthetic classification datasets (dataset_A and dataset_B) in 2-dimensions, also illustrate the learned classifier for each kernel setting. Do this in the last codeWrite cell for this question.\n"
   ]
  },
  {
   "cell_type": "code",
   "execution_count": 13,
   "metadata": {
    "collapsed": true
   },
   "outputs": [],
   "source": [
    "# CodeWrite \n",
    "#Write logistic regression code from scratch. Use gradient descent.\n",
    "# Only write functions here\n",
    "\n",
    "def train_pred_logistic_regression(X, Y, kernel='linear', reg_param=0., \n",
    "                                   kernel_param=1., num_iter_gd=100):\n",
    "    \"\"\"\n",
    "    Arguments:\n",
    "    X : (n,d) shape numpy array\n",
    "    Y : (n,)  shape numpy array\n",
    "    X_test : (m,d) shape numpy array\n",
    "    kernel = 'linear' or 'rbf' or 'poly' \n",
    "    reg_param = $\\lambda$\n",
    "    num_iter_gd = number of GD iterations.\n",
    "\n",
    "    Returns the result of kernel logistic regression :\n",
    "    alpha: Vector of solutions for the dual. Numpy array of shape (n,)\n",
    "\n",
    "    Primal problem:\n",
    "    $ \\min_w  \\sum_{i=1}^n \\log(1+\\exp(-y_i* \\w^\\top \\phi(\\x_i)))  + \\frac{\\lambda}{2} ||\\w||^2 $\n",
    "\n",
    "    the dual of which is\n",
    "\n",
    "    $ \\min_alpha \\sum_{i=1}^n \\log(1+\\exp(-y_i* \\alpha^\\top K_{:,i} ))  + \\frac{\\lambda}{2} \\alpha^\\top K \\alpha $\n",
    "    where $\\phi$ is the feature got by the kernel.\n",
    "\n",
    "    Where K is the nxn kernel matrix computed on the training data.\n",
    "\n",
    "    The kernel is defined by the kernel_param:\n",
    "    If kernel=linear: K(\\u,\\v) = \\u^\\top \\v  \n",
    "    If kernel=poly:  K(\\u,\\v) = (1+\\u^\\top \\v)^(kernel_param)\n",
    "    If kernel=rbf:  K(\\u,\\v) = \\exp(-kernel_param*||\\u-\\v||^2)\n",
    "    \"\"\"\n",
    "\n",
    "def test_pred(alpha, train_X, train_Y, test_X, kernel, kernel_param):\n",
    "    \"\"\"\n",
    "    Return the predictions on test_X using the learnt alphas\n",
    "    \"\"\"\n",
    "    \n",
    "\n",
    "    \n",
    "\n"
   ]
  },
  {
   "cell_type": "code",
   "execution_count": null,
   "metadata": {
    "collapsed": true
   },
   "outputs": [],
   "source": [
    "# CodeWrite : Use the functions above to do validation to get best hyperparameters \n",
    "# (i.e. kernel_param and regularisation_param).\n",
    "# Also, get the numbers you report below. \n",
    "\n"
   ]
  },
  {
   "cell_type": "markdown",
   "metadata": {},
   "source": [
    "TextWrite Cell: Give your observations and the list of hyperparameter choices and train zero-one error  and test zero-one error for all three kernel choices, for all 4 datasets (2 real world and 2 synthetic).  \n",
    "\n",
    "\n"
   ]
  },
  {
   "cell_type": "code",
   "execution_count": null,
   "metadata": {
    "collapsed": true
   },
   "outputs": [],
   "source": [
    "# Codewrite cell: Generate plots of learned classifier for all three kernel types, on dataset_A and datasset_B.\n",
    "# Plots should give both the learned classifier and the train data. \n",
    "# Similar to  Bishop Figure 4.5 (with just two classes here.)\n",
    "# Total number of plots = 3 * 2 = 6\n",
    "\n"
   ]
  },
  {
   "cell_type": "markdown",
   "metadata": {},
   "source": [
    "# 2. SVM\n",
    "\n",
    "Write code for learning SVM below. Also write code for choosing best hyperparameters for each kernel type. You may use sklearn.svm for this purpose. (use a part of training set as validation set)\n",
    "\n",
    "Write code for running in the cell after (You may be asked to demonstrate your code during the viva using this cell.)\n",
    "\n",
    "In text cell after that report the following numbers you get by running appropriate code:\n",
    "\n",
    "For each classification data set report the best kernel and regularisation parameters for linear, RBF and Poly kernels. (Linear has no kernel parameter.) Report the training and test zero-one error for those hyperparameters.\n",
    "\n",
    "For the synthetic classification datasets in 2-dimensions, also illustrate the learned classifier for each kernel setting. Do this in the last codeWrite cell for this question."
   ]
  },
  {
   "cell_type": "code",
   "execution_count": 14,
   "metadata": {
    "collapsed": true
   },
   "outputs": [],
   "source": [
    "# CodeWrite cell\n",
    "# Write SVM classifier using SKlearn\n",
    "# write only functions here\n",
    "\n"
   ]
  },
  {
   "cell_type": "code",
   "execution_count": null,
   "metadata": {
    "collapsed": true
   },
   "outputs": [],
   "source": [
    "# CodeWrite cell\n",
    "# Write code here for doing validation (for kernel_param and regularisation_param)\n",
    "# on a subset of the training set. \n",
    "# Also for generating the numbers that you report below.\n",
    "\n"
   ]
  },
  {
   "cell_type": "markdown",
   "metadata": {},
   "source": [
    "TextWrite Cell: Give your observations and the list of hyperparameter choices and train zero-one error  and test zero-one error for all three kernel choices, for all 4 datasets (2 real world and 2 synthetic).  \n"
   ]
  },
  {
   "cell_type": "code",
   "execution_count": null,
   "metadata": {
    "collapsed": true
   },
   "outputs": [],
   "source": [
    "# Codewrite cell: Generate plots of learned classifier for all three kernel types, on dataset_A and datasset_B.\n",
    "# Plots should give both the learned classifier and the train data. \n",
    "# Similar to  Bishop Figure 4.5 (with just two classes here.)\n",
    "# Total number of plots = 3 * 2 = 6\n",
    "\n",
    "\n"
   ]
  },
  {
   "cell_type": "markdown",
   "metadata": {
    "collapsed": true
   },
   "source": [
    "# 3. Decision Tree\n",
    "\n",
    "Write code for learning decision tree below. Take as an argument a hyperparameter on what size node to stop splitting. Use a part of training set as validation set.\n",
    "\n",
    "Write code for running in the cell after (You may be asked to demonstrate your code during the viva using this cell.)\n",
    "\n",
    "In text cell after that report the following numbers you get by running appropriate code:\n",
    "\n",
    "For all four data sets  report the best node size to stop splitting. Report the training and test zero-one error for those hyperparameters.\n",
    "\n",
    "For datasets A and B, also illustrate the learned classifier. Do this in the last codeWrite cell for this question.\n",
    "\n",
    "Important: Think about how you will represent a decision tree. (Possible soln: Store as a list of tuples containing node position, attribute to split, threshold, class to classifiy (if leaf node) )\n"
   ]
  },
  {
   "cell_type": "code",
   "execution_count": null,
   "metadata": {
    "collapsed": true
   },
   "outputs": [],
   "source": [
    "# CodeWrite cell\n",
    "# Write Decision tree classifier from scratch, \n",
    "# write only functions here (you may write extra functions here if you wish)\n",
    "def train_decision_tree(X, Y, num_nodes_stop=1, criterion='accuracy'):\n",
    "\"\"\" Returns a decision tree trained on X and Y. \n",
    "Stops splitting nodes when a node has hit a size of \"num_nodes_stop\" or lower.\n",
    "Split criterion can be either 'accuracy' or 'entropy'.\n",
    "Returns a tree (In whatever format that you find appropriate)\n",
    "\"\"\"\n",
    "    \n",
    "\n",
    "def eval_decision_tree(tree, test_X):\n",
    "\"\"\" Takes in a tree, and a bunch of instances X and \n",
    "returns the tree predicted values at those instances.\"\"\"\n",
    "\n",
    "\n",
    "\n"
   ]
  },
  {
   "cell_type": "code",
   "execution_count": 6,
   "metadata": {
    "collapsed": true
   },
   "outputs": [],
   "source": [
    "# CodeWrite cell\n",
    "# Write code here for doing validation to find the best hyperparameters (i.e. num_nodes_stop)\n",
    "# Also Generate the numbers that you report below. \n",
    "# Repeat with criterion set to entropy also.\n",
    "\n"
   ]
  },
  {
   "cell_type": "markdown",
   "metadata": {},
   "source": [
    "TextWrite cell: Give your observations and the list of hyperparameter choices and train zero-one error  and test zero-one error, for all 4 datasets (2 real world and 2 synthetic).  \n",
    "\n"
   ]
  },
  {
   "cell_type": "code",
   "execution_count": null,
   "metadata": {
    "collapsed": true
   },
   "outputs": [],
   "source": [
    "## Codewrite cell: Generate plots of learned decision tree classifier on dataset_A and datasset_B.\n",
    "# Plots should give both the learned classifier and the train data. \n",
    "# Plots only required for the accuracy criterion.\n",
    "# Similar to  Bishop Figure 4.5 (with just two classes here.)\n",
    "# Total number of plots = 2 \n",
    "\n",
    "\n"
   ]
  },
  {
   "cell_type": "markdown",
   "metadata": {
    "collapsed": true
   },
   "source": [
    "# 4 Random Forest classifier\n",
    "\n",
    "Write code for learning RandomForests below. Fix the following hyper parameters: (Fraction of data to learn tree=0.5, Fraction of number of features chosen in each node=0.5, num_nodes_stop=1).  Choose the number of trees to add in the forest by using a validation set. You may use a slightly modified version of the decision tree code you had written earlier.\n",
    "\n",
    "Write code for running in the cell after the nest. (You may be asked to demonstrate your code during the viva using this cell.) \n",
    "\n",
    "In text cell after that report the following numbers you get by running appropriate code:\n",
    "\n",
    "For all 4 data sets (A,B,C,D)  report the best number of trees found. Report the training and test zero-one error for those hyperparameters.\n",
    "\n",
    "For the synthetic classification datasets (datasets A and B) in 2-dimensions, also illustrate the learned classifier for each kernel setting. Do this in the last codeWrite cell for this question."
   ]
  },
  {
   "cell_type": "code",
   "execution_count": null,
   "metadata": {
    "collapsed": true
   },
   "outputs": [],
   "source": [
    "# CodeWrite cell\n",
    "# Write Random Forest classifier. \n",
    "def train_random_forest(X, Y, num_trees=10, num_nodes_stop=1, \n",
    "                        criterion='accuracy', a=0.5, b=0.5):\n",
    "\"\"\" Returns a random forest trained on X and Y. \n",
    "Trains num_trees.\n",
    "Stops splitting nodes in each tree when a node has hit a size of \"num_nodes_stop\" or lower.\n",
    "Split criterion can be either 'accuracy' or 'entropy'.\n",
    "Fraction of data used per tree = a\n",
    "Fraction of features used in each node = b\n",
    "Returns a random forest (In whatever format that you find appropriate)\n",
    "\"\"\"\n",
    "    \n",
    "\n",
    "def eval_random_forest(random_forest, test_X):\n",
    "\"\"\" Takes in a  random forest object (hhowever you want to store it), and a bunch of instances X and \n",
    "returns the tree predicted values at those instances.\"\"\"\n",
    "\n",
    "\n"
   ]
  },
  {
   "cell_type": "code",
   "execution_count": null,
   "metadata": {
    "collapsed": true
   },
   "outputs": [],
   "source": [
    "# CodeWrite cell\n",
    "# Write code for choosing the best hyperparameters (num_trees, num_nodes_stop)\n",
    "# Write code here for generating the numbers that you report below.\n",
    "# Repeat above for criterion set to entropy also.\n",
    "\n"
   ]
  },
  {
   "cell_type": "markdown",
   "metadata": {},
   "source": [
    "TextWrite cell: Give your observations and the list of hyperparameter choices and train zero-one error  and test zero-one error, for all 4 datasets (2 real world and 2 synthetic).  \n"
   ]
  },
  {
   "cell_type": "code",
   "execution_count": 3,
   "metadata": {
    "collapsed": true
   },
   "outputs": [],
   "source": [
    "## Codewrite cell: Generate plots of learned Random Forest classifier on dataset_A and datasset_B.\n",
    "# Plots should give both the learned classifier and the train data. \n",
    "# Plots required only for the accuracy criterion.\n",
    "# Similar to  Bishop Figure 4.5 (with just two classes here.)\n",
    "# Total number of plots = 2 \n"
   ]
  },
  {
   "cell_type": "markdown",
   "metadata": {},
   "source": [
    "# 5 AdaBoost\n",
    "\n",
    "Write code for learning using AdaBoost below. Use 3 different weak learners below. (You may reuse code written above)\n",
    "\n",
    "1. 1 node decision tree \n",
    "2. Decision tree of fixed depth = 3 (Root, child, grand child)\n",
    "3. Decision tree of fixed depth = 7 (Root, child, grand child, ..., great^4 grand child)\n",
    "\n",
    "Run for 50 iterations. You may use the accuracy split criterion for all the three weak learners.\n",
    "\n",
    "Write code for running in the next cell. (You may be asked to demonstrate your code during the viva using this cell.) \n",
    "\n",
    "In text cell after that report the following numbers you get by running appropriate code:\n",
    "\n",
    "For all 4 data sets (A,B,C,D)  plot the train and test accuracy vs iterations. A total of 12 plots is expected. 4 datasets * 3 weak learners. Each plot should contain two curves, train and test error.  \n",
    "\n",
    "For the synthetic classification datasets (datasets A and B) in 2-dimensions, also illustrate the learned classifier for each weak learner setting. A total of 6 contourf style plots are expected here. Do this in the last codeWrite cell for this question.\n",
    "\n",
    "Summarise your observations in the last textwrite cell."
   ]
  },
  {
   "cell_type": "code",
   "execution_count": 4,
   "metadata": {
    "collapsed": true
   },
   "outputs": [],
   "source": [
    "# Codewrite cell\n",
    "# Write code to run here (no plotting)\n"
   ]
  },
  {
   "cell_type": "code",
   "execution_count": 5,
   "metadata": {
    "collapsed": true
   },
   "outputs": [],
   "source": [
    "# Codewrite cell \n",
    "# Plots for iteration vs error here\n"
   ]
  },
  {
   "cell_type": "code",
   "execution_count": 6,
   "metadata": {
    "collapsed": true
   },
   "outputs": [],
   "source": [
    "# Codewrite cell \n",
    "# Plots for illustrating the classifier here\n"
   ]
  },
  {
   "cell_type": "markdown",
   "metadata": {},
   "source": [
    "Textwrite cell:"
   ]
  }
 ],
 "metadata": {
  "kernelspec": {
   "display_name": "Python 3 (ipykernel)",
   "language": "python",
   "name": "python3"
  },
  "language_info": {
   "codemirror_mode": {
    "name": "ipython",
    "version": 3
   },
   "file_extension": ".py",
   "mimetype": "text/x-python",
   "name": "python",
   "nbconvert_exporter": "python",
   "pygments_lexer": "ipython3",
   "version": "3.9.7"
  }
 },
 "nbformat": 4,
 "nbformat_minor": 2
}
